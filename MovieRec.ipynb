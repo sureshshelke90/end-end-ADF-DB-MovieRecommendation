{
 "cells": [
  {
   "cell_type": "code",
   "execution_count": 0,
   "metadata": {
    "application/vnd.databricks.v1+cell": {
     "cellMetadata": {
      "byteLimit": 2048000,
      "rowLimit": 10000
     },
     "inputWidgets": {},
     "nuid": "cafb5c7c-cbdf-4676-a3b1-24cc3d301483",
     "showTitle": false,
     "title": ""
    }
   },
   "outputs": [],
   "source": [
    "adlsAccountName=\"sskstoragelearning\"\n",
    "adlsContainername=\"validated\"\n",
    "adlsFolderName=\"Data\"\n",
    "mountpoint=\"/mnt/Files/validated\"\n",
    "applicationId=dbutils.secrets.get(scope=\"moverecscp1\",key=\"clientappid\")\n",
    "authenticationKey=dbutils.secrets.get(scope=\"moverecscp1\",key=\"clientsecretval\")\n",
    "tenantId=dbutils.secrets.get(scope=\"moverecscp1\",key=\"clienttenantid\")\n",
    "endpoint=\"https://login.microsoftonline.com/\"+tenantId+\"/oauth2/token\"\n",
    "source=\"abfss://\"+adlsContainername+\"@\"+adlsAccountName+\".dfs.core.windows.net/\"+adlsFolderName\n",
    "configs = {\"fs.azure.account.auth.type\": \"OAuth\",\n",
    "          \"fs.azure.account.oauth.provider.type\": \"org.apache.hadoop.fs.azurebfs.oauth2.ClientCredsTokenProvider\",\n",
    "          \"fs.azure.account.oauth2.client.id\": applicationId,\n",
    "          \"fs.azure.account.oauth2.client.secret\": authenticationKey,\n",
    "          \"fs.azure.account.oauth2.client.endpoint\": endpoint}\n",
    "#Mounting ADLS storage to DBFS\n",
    "#mount if the directory is not already mounted \n",
    "if not any(mount.mountPoint==mountpoint for mount in dbutils.fs.mounts()):\n",
    "    dbutils.fs.mount(\n",
    "        source=source,\n",
    "        mount_point=mountpoint,\n",
    "        extra_configs=configs)"
   ]
  },
  {
   "cell_type": "code",
   "execution_count": 0,
   "metadata": {
    "application/vnd.databricks.v1+cell": {
     "cellMetadata": {
      "byteLimit": 2048000,
      "rowLimit": 10000
     },
     "inputWidgets": {},
     "nuid": "4c377543-15b1-4a96-bde5-8dac8847bd28",
     "showTitle": false,
     "title": ""
    }
   },
   "outputs": [
    {
     "output_type": "execute_result",
     "data": {
      "text/plain": [
       "[FileInfo(path='dbfs:/mnt/Files/validated/movies.csv', name='movies.csv', size=3038099, modificationTime=1707818626000),\n",
       " FileInfo(path='dbfs:/mnt/Files/validated/ratings.csv', name='ratings.csv', size=678260987, modificationTime=1708000847000),\n",
       " FileInfo(path='dbfs:/mnt/Files/validated/tags.csv', name='tags.csv', size=38810332, modificationTime=1708000826000)]"
      ]
     },
     "execution_count": 2,
     "metadata": {},
     "output_type": "execute_result"
    }
   ],
   "source": [
    "dbutils.fs.ls('/mnt/Files/validated')"
   ]
  },
  {
   "cell_type": "code",
   "execution_count": 0,
   "metadata": {
    "application/vnd.databricks.v1+cell": {
     "cellMetadata": {
      "byteLimit": 2048000,
      "rowLimit": 10000
     },
     "inputWidgets": {},
     "nuid": "8923eb24-59ca-42df-a9a2-33fa3c481107",
     "showTitle": false,
     "title": ""
    }
   },
   "outputs": [],
   "source": [
    "movies_filename='dbfs:/mnt/Files/validated/movies.csv'\n",
    "rating_filename='dbfs:/mnt/Files/validated/ratings.csv'"
   ]
  },
  {
   "cell_type": "code",
   "execution_count": 0,
   "metadata": {
    "application/vnd.databricks.v1+cell": {
     "cellMetadata": {
      "byteLimit": 2048000,
      "rowLimit": 10000
     },
     "inputWidgets": {},
     "nuid": "b5d7445f-2b34-437c-bfce-ce1d805773ef",
     "showTitle": false,
     "title": ""
    }
   },
   "outputs": [
    {
     "output_type": "display_data",
     "data": {
      "text/html": [
       "<style scoped>\n",
       "  .table-result-container {\n",
       "    max-height: 300px;\n",
       "    overflow: auto;\n",
       "  }\n",
       "  table, th, td {\n",
       "    border: 1px solid black;\n",
       "    border-collapse: collapse;\n",
       "  }\n",
       "  th, td {\n",
       "    padding: 5px;\n",
       "  }\n",
       "  th {\n",
       "    text-align: left;\n",
       "  }\n",
       "</style><div class='table-result-container'><table class='table-result'><thead style='background-color: white'><tr><th>path</th><th>name</th><th>size</th><th>modificationTime</th></tr></thead><tbody><tr><td>dbfs:/mnt/Files/validated/movies.csv</td><td>movies.csv</td><td>3038099</td><td>1707818626000</td></tr><tr><td>dbfs:/mnt/Files/validated/ratings.csv</td><td>ratings.csv</td><td>678260987</td><td>1708000847000</td></tr><tr><td>dbfs:/mnt/Files/validated/tags.csv</td><td>tags.csv</td><td>38810332</td><td>1708000826000</td></tr></tbody></table></div>"
      ]
     },
     "metadata": {
      "application/vnd.databricks.v1+output": {
       "addedWidgets": {},
       "aggData": [],
       "aggError": "",
       "aggOverflow": false,
       "aggSchema": [],
       "aggSeriesLimitReached": false,
       "aggType": "",
       "arguments": {},
       "columnCustomDisplayInfos": {},
       "data": [
        [
         "dbfs:/mnt/Files/validated/movies.csv",
         "movies.csv",
         3038099,
         1707818626000
        ],
        [
         "dbfs:/mnt/Files/validated/ratings.csv",
         "ratings.csv",
         678260987,
         1708000847000
        ],
        [
         "dbfs:/mnt/Files/validated/tags.csv",
         "tags.csv",
         38810332,
         1708000826000
        ]
       ],
       "datasetInfos": [],
       "dbfsResultPath": null,
       "isJsonSchema": true,
       "metadata": {
        "isDbfsCommandResult": false
       },
       "overflow": false,
       "plotOptions": {
        "customPlotOptions": {},
        "displayType": "table",
        "pivotAggregation": null,
        "pivotColumns": null,
        "xColumns": null,
        "yColumns": null
       },
       "removedWidgets": [],
       "schema": [
        {
         "metadata": "{}",
         "name": "path",
         "type": "\"string\""
        },
        {
         "metadata": "{}",
         "name": "name",
         "type": "\"string\""
        },
        {
         "metadata": "{}",
         "name": "size",
         "type": "\"long\""
        },
        {
         "metadata": "{}",
         "name": "modificationTime",
         "type": "\"long\""
        }
       ],
       "type": "table"
      }
     },
     "output_type": "display_data"
    }
   ],
   "source": [
    "%fs \n",
    "ls /mnt/Files/validated/"
   ]
  },
  {
   "cell_type": "code",
   "execution_count": 0,
   "metadata": {
    "application/vnd.databricks.v1+cell": {
     "cellMetadata": {
      "byteLimit": 2048000,
      "rowLimit": 10000
     },
     "inputWidgets": {},
     "nuid": "90b7d152-abf4-4eae-872f-be8669a0b0a0",
     "showTitle": false,
     "title": ""
    }
   },
   "outputs": [],
   "source": [
    "from pyspark.sql.types import *\n",
    "#working on movies.csv file\n",
    "movies_with_genres_df_schema = StructType(\n",
    "[StructField('ID',IntegerType()),\n",
    " StructField('title',StringType()),\n",
    " StructField('genres',StringType())]\n",
    ")\n",
    "\n",
    "movies_df_schema = StructType(\n",
    "   [StructField('ID',IntegerType()),\n",
    "    StructField('title',StringType())]\n",
    ")\n"
   ]
  },
  {
   "cell_type": "code",
   "execution_count": 0,
   "metadata": {
    "application/vnd.databricks.v1+cell": {
     "cellMetadata": {
      "byteLimit": 2048000,
      "rowLimit": 10000
     },
     "inputWidgets": {},
     "nuid": "baa5f558-12ee-4f54-8123-eec8dabc4d3c",
     "showTitle": false,
     "title": ""
    }
   },
   "outputs": [],
   "source": [
    "movies_df = sqlContext.read.format('com.databricks.spark.csv').options(header=True,inferSchema=False).schema(movies_df_schema).load(movies_filename)\n",
    "movies_with_genres_df = sqlContext.read.format('com.databricks.spark.csv').options(header=True,inferSchema=False).schema(movies_with_genres_df_schema).load(movies_filename)"
   ]
  },
  {
   "cell_type": "markdown",
   "metadata": {
    "application/vnd.databricks.v1+cell": {
     "cellMetadata": {},
     "inputWidgets": {},
     "nuid": "33b7d130-ff45-4eaf-b20c-a32eb2e451b7",
     "showTitle": false,
     "title": ""
    }
   },
   "source": [
    "#inspecting the dataframe before the transformation"
   ]
  },
  {
   "cell_type": "code",
   "execution_count": 0,
   "metadata": {
    "application/vnd.databricks.v1+cell": {
     "cellMetadata": {
      "byteLimit": 2048000,
      "rowLimit": 10000
     },
     "inputWidgets": {},
     "nuid": "f0870fda-c679-4352-96a0-77d3ac008c01",
     "showTitle": false,
     "title": ""
    }
   },
   "outputs": [
    {
     "output_type": "stream",
     "name": "stdout",
     "output_type": "stream",
     "text": [
      "+---+------------------------+\n|ID |title                   |\n+---+------------------------+\n|1  |Toy Story (1995)        |\n|2  |Jumanji (1995)          |\n|3  |Grumpier Old Men (1995) |\n|4  |Waiting to Exhale (1995)|\n+---+------------------------+\nonly showing top 4 rows\n\n+---+------------------------+-------------------------------------------+\n|ID |title                   |genres                                     |\n+---+------------------------+-------------------------------------------+\n|1  |Toy Story (1995)        |Adventure|Animation|Children|Comedy|Fantasy|\n|2  |Jumanji (1995)          |Adventure|Children|Fantasy                 |\n|3  |Grumpier Old Men (1995) |Comedy|Romance                             |\n|4  |Waiting to Exhale (1995)|Comedy|Drama|Romance                       |\n+---+------------------------+-------------------------------------------+\nonly showing top 4 rows\n\n"
     ]
    }
   ],
   "source": [
    "movies_df.show(4,truncate=False)\n",
    "movies_with_genres_df.show(4,truncate=False)"
   ]
  },
  {
   "cell_type": "markdown",
   "metadata": {
    "application/vnd.databricks.v1+cell": {
     "cellMetadata": {},
     "inputWidgets": {},
     "nuid": "19800d21-6bdb-4908-808a-f67e13404065",
     "showTitle": false,
     "title": ""
    }
   },
   "source": [
    "#Rating data Analysis"
   ]
  },
  {
   "cell_type": "code",
   "execution_count": 0,
   "metadata": {
    "application/vnd.databricks.v1+cell": {
     "cellMetadata": {
      "byteLimit": 2048000,
      "rowLimit": 10000
     },
     "inputWidgets": {},
     "nuid": "07c09cdc-8180-4ba9-a80a-d1571def87f8",
     "showTitle": false,
     "title": ""
    }
   },
   "outputs": [
    {
     "output_type": "stream",
     "name": "stdout",
     "output_type": "stream",
     "text": [
      "+------+------+------+\n|userId|moveId|rating|\n+------+------+------+\n|1     |296   |5.0   |\n|1     |306   |3.5   |\n|1     |307   |5.0   |\n|1     |665   |5.0   |\n+------+------+------+\nonly showing top 4 rows\n\n"
     ]
    }
   ],
   "source": [
    "from pyspark.sql.types import *\n",
    "\n",
    "ratings_df_schema = StructType(\n",
    "[StructField('userId',IntegerType()),\n",
    " StructField('moveId',IntegerType()),\n",
    " StructField('rating',DoubleType())]\n",
    ")\n",
    "\n",
    "ratings_df = sqlContext.read.format('com.databricks.spark.csv').options(header=True,inferSchema=False).schema(ratings_df_schema).load(rating_filename)\n",
    "ratings_df.show(4,truncate=False)"
   ]
  },
  {
   "cell_type": "code",
   "execution_count": 0,
   "metadata": {
    "application/vnd.databricks.v1+cell": {
     "cellMetadata": {
      "byteLimit": 2048000,
      "rowLimit": 10000
     },
     "inputWidgets": {},
     "nuid": "cab0475c-4699-4294-9c4d-fb74706e319c",
     "showTitle": false,
     "title": ""
    }
   },
   "outputs": [
    {
     "output_type": "execute_result",
     "data": {
      "text/plain": [
       "DataFrame[userId: int, moveId: int, rating: double]"
      ]
     },
     "execution_count": 8,
     "metadata": {},
     "output_type": "execute_result"
    }
   ],
   "source": [
    "movies_df.cache()\n",
    "ratings_df.cache()"
   ]
  },
  {
   "cell_type": "code",
   "execution_count": 0,
   "metadata": {
    "application/vnd.databricks.v1+cell": {
     "cellMetadata": {
      "byteLimit": 2048000,
      "rowLimit": 10000
     },
     "inputWidgets": {},
     "nuid": "27cf60a5-04c6-4bf7-b2ea-d5bfee7501b9",
     "showTitle": false,
     "title": ""
    }
   },
   "outputs": [
    {
     "output_type": "stream",
     "name": "stdout",
     "output_type": "stream",
     "text": [
      "movie_ids_with_avg_ratings_df:\n+------+-----+------------------+\n|moveId|count|average           |\n+------+-----+------------------+\n|1088  |11935|3.25002094679514  |\n|1580  |40308|3.5817083457378187|\n|3175  |14659|3.6077836141619484|\n|44022 |4833 |3.2593627146699773|\n+------+-----+------------------+\nonly showing top 4 rows\n\n"
     ]
    }
   ],
   "source": [
    "from pyspark.sql import functions as F\n",
    "movie_ids_with_avg_ratings_df=ratings_df.groupBy('moveId').agg(F.count(ratings_df.rating).alias(\"count\"),F.avg(ratings_df.rating).alias(\"average\"))\n",
    "print(\"movie_ids_with_avg_ratings_df:\")\n",
    "movie_ids_with_avg_ratings_df.show(4,truncate=False)"
   ]
  },
  {
   "cell_type": "code",
   "execution_count": 0,
   "metadata": {
    "application/vnd.databricks.v1+cell": {
     "cellMetadata": {
      "byteLimit": 2048000,
      "rowLimit": 10000
     },
     "inputWidgets": {},
     "nuid": "479f2dcd-a18d-4844-8bc4-62205dc845af",
     "showTitle": false,
     "title": ""
    }
   },
   "outputs": [
    {
     "output_type": "stream",
     "name": "stdout",
     "output_type": "stream",
     "text": [
      "+------+-----+------------------+--------------------------------+\n|moveId|count|average           |title                           |\n+------+-----+------------------+--------------------------------+\n|1088  |11935|3.25002094679514  |Dirty Dancing (1987)            |\n|1580  |40308|3.5817083457378187|Men in Black (a.k.a. MIB) (1997)|\n|3175  |14659|3.6077836141619484|Galaxy Quest (1999)             |\n|44022 |4833 |3.2593627146699773|Ice Age 2: The Meltdown (2006)  |\n+------+-----+------------------+--------------------------------+\nonly showing top 4 rows\n\n"
     ]
    }
   ],
   "source": [
    "movie_names_with_avg_rating_df=movie_ids_with_avg_ratings_df.join(movies_df,F.col(\"MoveId\") == F.col(\"ID\")).drop('ID')\n",
    "movie_names_with_avg_rating_df.show(4,truncate=False)"
   ]
  },
  {
   "cell_type": "code",
   "execution_count": 0,
   "metadata": {
    "application/vnd.databricks.v1+cell": {
     "cellMetadata": {
      "byteLimit": 2048000,
      "rowLimit": 10000
     },
     "inputWidgets": {},
     "nuid": "95efb2dc-2745-44f9-b881-8acd438595fb",
     "showTitle": false,
     "title": ""
    }
   },
   "outputs": [
    {
     "output_type": "stream",
     "name": "stdout",
     "output_type": "stream",
     "text": [
      "+------+-----+------------------+----------------------+\n|moveId|count|average           |title                 |\n+------+-----+------------------+----------------------+\n|4775  |669  |1.1255605381165918|Glitter (2001)        |\n|61348 |557  |1.2055655296229804|Disaster Movie (2008) |\n|6587  |758  |1.2143799472295516|Gigli (2003)          |\n|31698 |633  |1.2322274881516588|Son of the Mask (2005)|\n+------+-----+------------------+----------------------+\nonly showing top 4 rows\n\n"
     ]
    }
   ],
   "source": [
    "movies_with_500_ratings_or_more = movie_names_with_avg_rating_df.filter(movie_names_with_avg_rating_df['count'] >= 500).orderBy('average',acending=False)\n",
    "movies_with_500_ratings_or_more.show(4,truncate=False)\n"
   ]
  },
  {
   "cell_type": "code",
   "execution_count": 0,
   "metadata": {
    "application/vnd.databricks.v1+cell": {
     "cellMetadata": {
      "byteLimit": 2048000,
      "rowLimit": 10000
     },
     "inputWidgets": {},
     "nuid": "46dc8d33-d4f8-413b-9f4c-fe9db1110773",
     "showTitle": false,
     "title": ""
    }
   },
   "outputs": [
    {
     "output_type": "stream",
     "name": "stdout",
     "output_type": "stream",
     "text": [
      "Training: 14999112,Validation: 4999908,test: 5001075\n\n+------+------+------+\n|userId|moveId|rating|\n+------+------+------+\n|1     |306   |3.5   |\n|1     |307   |5.0   |\n|1     |665   |5.0   |\n|1     |899   |3.5   |\n+------+------+------+\nonly showing top 4 rows\n\n+------+------+------+\n|userId|moveId|rating|\n+------+------+------+\n|1     |1250  |4.0   |\n|1     |2011  |2.5   |\n|1     |2161  |3.5   |\n|1     |2351  |4.5   |\n+------+------+------+\nonly showing top 4 rows\n\n+------+------+------+\n|userId|moveId|rating|\n+------+------+------+\n|1     |296   |5.0   |\n|1     |1217  |3.5   |\n|1     |2068  |2.5   |\n|1     |2843  |4.5   |\n+------+------+------+\nonly showing top 4 rows\n\n"
     ]
    }
   ],
   "source": [
    "from pyspark.sql import functions as F\n",
    "seed=4\n",
    "(split_60_df,split_a_20_df,split_b_20_df) = ratings_df.randomSplit([0.6,0.2,0.2],seed)\n",
    "\n",
    "training_df = split_60_df.cache()\n",
    "validation_df = split_a_20_df.cache()\n",
    "test_df = split_b_20_df.cache()\n",
    "\n",
    "print('Training: {0},Validation: {1},test: {2}\\n'.format(\n",
    "    training_df.count(), validation_df.count(), test_df.count())\n",
    ")\n",
    "\n",
    "training_df.show(4,truncate=False)\n",
    "validation_df.show(4,truncate=False)\n",
    "test_df.show(4,truncate=False)"
   ]
  },
  {
   "cell_type": "code",
   "execution_count": 0,
   "metadata": {
    "application/vnd.databricks.v1+cell": {
     "cellMetadata": {
      "byteLimit": 2048000,
      "rowLimit": 10000
     },
     "inputWidgets": {},
     "nuid": "5d39fc75-812e-411f-a67c-f1957fdbd356",
     "showTitle": false,
     "title": ""
    }
   },
   "outputs": [],
   "source": [
    "from pyspark.ml.recommendation import ALS\n",
    "als = ALS()\n",
    "\n",
    "als.setPredictionCol(\"prediction\")\\\n",
    "    .setMaxIter(5)\\\n",
    "    .setSeed(seed)\\\n",
    "    .setRegParam(0.1)\\\n",
    "    .setUserCol(\"userId\")\\\n",
    "    .setItemCol(\"moveId\")\\\n",
    "    .setRatingCol(\"rating\")\\\n",
    "    .setRank(8)\n",
    "\n",
    "my_ratings_model = als.fit(training_df)"
   ]
  },
  {
   "cell_type": "code",
   "execution_count": 0,
   "metadata": {
    "application/vnd.databricks.v1+cell": {
     "cellMetadata": {
      "byteLimit": 2048000,
      "rowLimit": 10000
     },
     "inputWidgets": {},
     "nuid": "cb45e789-70b6-43e0-88a6-9fe352edde9e",
     "showTitle": false,
     "title": ""
    }
   },
   "outputs": [
    {
     "output_type": "stream",
     "name": "stdout",
     "output_type": "stream",
     "text": [
      "The model had a RMSE on the test set of 0.8137715461272659\n"
     ]
    }
   ],
   "source": [
    "from pyspark.ml.evaluation import RegressionEvaluator\n",
    "from pyspark.sql.functions import col\n",
    "\n",
    "reg_eval = RegressionEvaluator(predictionCol=\"prediction\",labelCol=\"rating\",metricName=\"rmse\")\n",
    "my_predict_df=my_ratings_model.transform(test_df)\n",
    "\n",
    "predicated_test_my_ratings = my_predict_df.filter(my_predict_df.prediction != float('nan'))\n",
    "\n",
    "test_RMSE_my_ratings = reg_eval.evaluate(predicated_test_my_ratings)\n",
    "print('The model had a RMSE on the test set of {0}'.format(test_RMSE_my_ratings))\n",
    "\n",
    "dbutils.widgets.text(\"input\",\"5\",\"\")\n",
    "ins = dbutils.widgets.get(\"input\")\n",
    "uid=int(ins)\n",
    "ll=predicated_test_my_ratings.filter(col(\"userId\")==uid)\n"
   ]
  },
  {
   "cell_type": "code",
   "execution_count": 0,
   "metadata": {
    "application/vnd.databricks.v1+cell": {
     "cellMetadata": {
      "byteLimit": 2048000,
      "rowLimit": 10000
     },
     "inputWidgets": {},
     "nuid": "f6ef3535-dfa7-4d64-95ab-7437d2d8604e",
     "showTitle": false,
     "title": ""
    }
   },
   "outputs": [],
   "source": [
    "MovieRec = ll.join(movies_df,F.col(\"moveId\") == F.col(\"ID\")).drop('ID').select('title').take(10)\n",
    "l=dbutils.notebook.exit(MovieRec)"
   ]
  }
 ],
 "metadata": {
  "application/vnd.databricks.v1+notebook": {
   "dashboards": [],
   "language": "python",
   "notebookMetadata": {
    "mostRecentlyExecutedCommandWithImplicitDF": {
     "commandId": 3280629375052371,
     "dataframes": [
      "_sqldf"
     ]
    },
    "pythonIndentUnit": 4
   },
   "notebookName": "MovieRec",
   "widgets": {
    "input": {
     "currentValue": "5",
     "nuid": "f75f4f1a-c321-4c3a-9c4e-6fc1e1c85146",
     "widgetInfo": {
      "widgetType": "text",
      "defaultValue": "5",
      "label": "",
      "name": "input",
      "options": {
       "widgetType": "text",
       "autoCreated": null,
       "validationRegex": null
      }
     }
    }
   }
  }
 },
 "nbformat": 4,
 "nbformat_minor": 0
}
